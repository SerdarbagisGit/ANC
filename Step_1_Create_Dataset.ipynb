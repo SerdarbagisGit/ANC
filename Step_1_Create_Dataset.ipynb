{
 "cells": [
  {
   "cell_type": "markdown",
   "id": "4bea2731",
   "metadata": {},
   "source": [
    "# Generate Datasets"
   ]
  },
  {
   "cell_type": "code",
   "execution_count": 1,
   "id": "3182cb65",
   "metadata": {},
   "outputs": [],
   "source": [
    "import sys\n",
    "import time\n",
    "from os import system\n",
    "import random\n",
    "import numpy as np\n",
    "import pickle\n",
    "from lib.environment import Environment\n",
    "import lib.helper as helper\n",
    "import matplotlib.pyplot as plt\n"
   ]
  },
  {
   "cell_type": "code",
   "execution_count": 2,
   "id": "dc0b2eef",
   "metadata": {},
   "outputs": [
    {
     "name": "stdout",
     "output_type": "stream",
     "text": [
      "Environment initiated\n",
      "[256, 576, 448, 640, 512, 384, 512, 448, 576, 640, 512, 448, 384, 512, 640, 512]\n"
     ]
    }
   ],
   "source": [
    "signal_conf = {\n",
    "    \"number_of_symbols\": 15,\n",
    "    \"variable_len_symbols\": True,\n",
    "    \"add_blanks\": True,\n",
    "    \"add_noise\": False,\n",
    "    \"plot_signal\": False,\n",
    "    \"verbose\": False,\n",
    "    \"what_to_present\": \"ordered_symbols\",\n",
    "}\n",
    "env = Environment(signal_conf)"
   ]
  },
  {
   "cell_type": "code",
   "execution_count": 3,
   "id": "737fcb2d",
   "metadata": {
    "tags": []
   },
   "outputs": [
    {
     "data": {
      "text/plain": [
       "(110, [[1, 11, 1, 12, 1], [1, 11, 2, 12, 2], [1, 11, 3, 12, 3]])"
      ]
     },
     "execution_count": 3,
     "metadata": {},
     "output_type": "execute_result"
    }
   ],
   "source": [
    "L = 512 * 10\n",
    "operations = env.all_ops.copy()\n",
    "len(operations),operations[:3]"
   ]
  },
  {
   "cell_type": "markdown",
   "id": "aa853543",
   "metadata": {},
   "source": [
    "# Datasets "
   ]
  },
  {
   "cell_type": "code",
   "execution_count": 4,
   "id": "aa58a592",
   "metadata": {},
   "outputs": [],
   "source": [
    "datasets = {}"
   ]
  },
  {
   "cell_type": "markdown",
   "id": "a2e43896",
   "metadata": {},
   "source": [
    "## Dataset 1\n",
    "- Train Dataset 1: Addition and subtraction of digits separated by single blank symbol \n",
    "\n",
    "- Test Dataset 1: Addition and subtraction of digits separated by randon number of blank symbols "
   ]
  },
  {
   "cell_type": "code",
   "execution_count": 5,
   "id": "c341a13e",
   "metadata": {},
   "outputs": [],
   "source": [
    "dataset_name = \"dataset_1\"\n",
    "datasets[dataset_name]={\"train\":{}, \"test\":{}}"
   ]
  },
  {
   "cell_type": "markdown",
   "id": "0400db0f",
   "metadata": {
    "tags": []
   },
   "source": [
    "### Train Dataset 1:\n",
    "\n",
    "Arithmetic operations involving addition and subtraction of single digits, with each digit or operation separated by a single blank symbol."
   ]
  },
  {
   "cell_type": "code",
   "execution_count": 6,
   "id": "b577cbf8",
   "metadata": {},
   "outputs": [],
   "source": [
    "train_test= \"train\"\n",
    "\n",
    "for expression_identifier, expression in enumerate(operations):    \n",
    "    datasets[dataset_name][train_test][expression_identifier]={\"supervised_signal\":0, \"unsupervised_signal\":0,\"label\" : 0, \"expression\":expression}\n",
    "    \n",
    "    # 0 represents the blank symbol, so the digits representations start from 1 which corresponds to 0\n",
    "    datasets[dataset_name][train_test][expression_identifier][\"label\"]=expression[-1]-1 \n",
    "    \n",
    "    supervised_train_expression =[0]+[item for items in zip(expression, [0] * len(expression[:-1])) for item in items]\n",
    "    datasets[dataset_name][train_test][expression_identifier][\"supervised_signal\"]=  helper.pad_audio_beginning(env.gen_signal_for_symbols(supervised_train_expression),L)\n",
    "    \n",
    "    unsupervised_train_expression =[0]+[item for items in zip(expression, [0] * len(expression)) for item in items]\n",
    "    datasets[dataset_name][train_test][expression_identifier][\"unsupervised_signal\"]= helper.pad_audio_beginning(env.gen_signal_for_symbols(unsupervised_train_expression),L)\n"
   ]
  },
  {
   "cell_type": "markdown",
   "id": "2733fefc",
   "metadata": {},
   "source": [
    "### Test Dataset 1:\n",
    "Addition and subtraction of digits separated by randon number of blank symbols "
   ]
  },
  {
   "cell_type": "code",
   "execution_count": 7,
   "id": "22ccdfd5",
   "metadata": {
    "tags": []
   },
   "outputs": [],
   "source": [
    "train_test = \"test\"\n",
    "\n",
    "for run in range(5):\n",
    "    for k, expression_init in enumerate(operations):    \n",
    "        example_identifier=run*len(operations)+k \n",
    "        datasets[dataset_name][train_test][example_identifier]={\"supervised_signal\":0, \"unsupervised_signal\":0,\"label\" : 0, \"expression\":0}\n",
    "        \n",
    "        # 0 represents the blank symbol, so the digits representations start from 1 which corresponds to 0\n",
    "        datasets[dataset_name][train_test][example_identifier][\"label\"]=expression_init[-1]-1 \n",
    "        \n",
    "        unsupervised_expression = expression_init.copy()\n",
    "        m = len(unsupervised_expression)\n",
    "        for j in range(m, -1, -1):\n",
    "            random.seed(9001+run*13+j*7)        \n",
    "            sp = random.randint(0, 2)\n",
    "            unsupervised_expression[j:j] = [0] * sp\n",
    "        last_val=0\n",
    "        for index, j in enumerate(unsupervised_expression):\n",
    "            if j>0:\n",
    "                last_val= index\n",
    "        supervised_expression = unsupervised_expression[:last_val]\n",
    "        # print(unsupervised_expression)\n",
    "        # print(supervised_expression)\n",
    "        datasets[dataset_name][train_test][example_identifier][\"expression\"]=unsupervised_expression\n",
    "\n",
    "        train_data_signal = env.gen_signal_for_symbols(unsupervised_expression)\n",
    "        if len(train_data_signal)> L:\n",
    "            print(run, k, len(train_data_signal))\n",
    "        \n",
    "        datasets[dataset_name][train_test][example_identifier][\"supervised_signal\"]=  helper.pad_audio_beginning(env.gen_signal_for_symbols(supervised_expression),L)\n",
    "\n",
    "        \n",
    "        datasets[dataset_name][train_test][example_identifier][\"unsupervised_signal\"]= helper.pad_audio_beginning(env.gen_signal_for_symbols(unsupervised_expression),L)\n",
    "        # break  \n",
    "            "
   ]
  },
  {
   "cell_type": "code",
   "execution_count": 8,
   "id": "f667c0e1",
   "metadata": {},
   "outputs": [],
   "source": [
    "# i=0\n",
    "# plt.plot(datasets[dataset_name][\"train\"][i][\"supervised_signal\"], label = \"Supervised\")\n",
    "# plt.plot(22+datasets[dataset_name][\"train\"][i][\"unsupervised_signal\"], label = \"Unsupervised\")\n",
    "# print(operations[i])\n",
    "# plt.legend()\n",
    "# plt.show()"
   ]
  },
  {
   "cell_type": "code",
   "execution_count": 9,
   "id": "1223b2fc",
   "metadata": {},
   "outputs": [],
   "source": [
    "# i=22\n",
    "# plt.plot(datasets[dataset_name][\"train\"][i][\"unsupervised_signal\"], label = \"Supervised\")\n",
    "# plt.plot(datasets[dataset_name][\"test\"][i][\"unsupervised_signal\"], label = \"Unsupervised\")\n",
    "# print(datasets[dataset_name][\"train\"][i][\"expression\"])\n",
    "# print(datasets[dataset_name][\"test\"][i][\"expression\"])\n",
    "# print(operations[i])\n",
    "# plt.legend()\n",
    "# plt.show()"
   ]
  },
  {
   "cell_type": "markdown",
   "id": "75f8386a",
   "metadata": {},
   "source": [
    "## Dataset 2\n",
    "10 sets of addition and subtraction of digits separated by single blank symbol, spliting them as follows\n",
    "\n",
    "- Train Dataset 2: Randomly chosen 100 out of 110 additions and subtractions of digits separated by single blank symbol\n",
    "\n",
    "- Test Dataset 2: Remaining 10 out of 110 additions and subtractions of digits separated by randon number of blank symbols \n"
   ]
  },
  {
   "cell_type": "code",
   "execution_count": 10,
   "id": "563fa10d",
   "metadata": {},
   "outputs": [],
   "source": [
    "dataset_name = \"dataset_2\"\n",
    "datasets[dataset_name]={\"train\":{}, \"test\":{}}\n",
    "operations = env.all_ops.copy()"
   ]
  },
  {
   "cell_type": "code",
   "execution_count": 11,
   "id": "9162a56a",
   "metadata": {},
   "outputs": [],
   "source": [
    "for dataset_2_subset_nr in range(10):\n",
    "    \n",
    "    random.seed(9001+dataset_2_subset_nr*13)        \n",
    "    test_ops = random.sample(range(1, len(operations)), 10) \n",
    "    train_subset= \"train\"+str(dataset_2_subset_nr)\n",
    "    test_subset= \"test\"+str(dataset_2_subset_nr)\n",
    "    datasets[dataset_name][train_subset]= {}\n",
    "    datasets[dataset_name][test_subset]={}\n",
    "    \n",
    "    train_counter =0\n",
    "    test_counter = 0\n",
    "    \n",
    "    for expression_identifier in test_ops:\n",
    "        \n",
    "        expression  = operations[expression_identifier]    \n",
    "        \n",
    "        datasets[dataset_name][test_subset][test_counter]={\"supervised_signal\":0, \"unsupervised_signal\":0,\"label\" : 0, \"expression\":expression}\n",
    "        # 0 represents the blank symbol, so the digits representations start from 1 which corresponds to 0\n",
    "        datasets[dataset_name][test_subset][test_counter][\"label\"]=expression[-1]-1 \n",
    "     \n",
    "        supervised_train_expression =[0]+[item for items in zip(expression[:-1], [0] * len(expression[:-1])) for item in items]\n",
    "        datasets[dataset_name][test_subset][test_counter][\"supervised_signal\"]=  helper.pad_audio_beginning(env.gen_signal_for_symbols(supervised_train_expression),L)\n",
    "    \n",
    "        unsupervised_train_expression =[0]+[item for items in zip(expression, [0] * len(expression)) for item in items]\n",
    "        datasets[dataset_name][test_subset][test_counter][\"unsupervised_signal\"]= helper.pad_audio_beginning(env.gen_signal_for_symbols(unsupervised_train_expression),L)\n",
    "        \n",
    "        test_counter+=1\n",
    "    \n",
    "    for expression_identifier, expression in enumerate(operations): \n",
    "        if expression_identifier not in test_ops:\n",
    "            datasets[dataset_name][train_subset][train_counter]={\"supervised_signal\":0, \"unsupervised_signal\":0,\"label\" : 0, \"expression\":expression}\n",
    "\n",
    "            # 0 represents the blank symbol, so the digits representations start from 1 which corresponds to 0\n",
    "            datasets[dataset_name][train_subset][train_counter][\"label\"]=expression[-1]-1 \n",
    "\n",
    "            supervised_train_expression =[0]+[item for items in zip(expression[:-1], [0] * len(expression[:-1])) for item in items]\n",
    "            datasets[dataset_name][train_subset][train_counter][\"supervised_signal\"]=  helper.pad_audio_beginning(env.gen_signal_for_symbols(supervised_train_expression),L)\n",
    "\n",
    "            unsupervised_train_expression =[0]+[item for items in zip(expression, [0] * len(expression)) for item in items]\n",
    "            datasets[dataset_name][train_subset][train_counter][\"unsupervised_signal\"]= helper.pad_audio_beginning(env.gen_signal_for_symbols(unsupervised_train_expression),L)\n",
    "            \n",
    "            train_counter+=1\n"
   ]
  },
  {
   "cell_type": "markdown",
   "id": "a811de35",
   "metadata": {},
   "source": [
    "## Dataset 3\n",
    "\n",
    "- *Train Dataset 3*: Arithmetic operations involving addition and subtraction of single digits, with each digit or operation separated by a single blank symbol.\n",
    "\n",
    "- Test Dataset 3: Arithmetic operations involving one or two additions or subtractions of single digits, with digits or operations separated by a random number of blank symbols."
   ]
  },
  {
   "cell_type": "code",
   "execution_count": 12,
   "id": "b6f3f14f",
   "metadata": {},
   "outputs": [],
   "source": [
    "dataset_name = \"dataset_3\"\n",
    "datasets[dataset_name]={\"train\":{}, \"test\":{}}\n",
    "operations = env.all_ops.copy()"
   ]
  },
  {
   "cell_type": "markdown",
   "id": "36186801",
   "metadata": {
    "tags": []
   },
   "source": [
    "### Train Dataset 3:\n",
    "Arithmetic operations involving addition and subtraction of single digits, with each digit or operation separated by a single blank symbol."
   ]
  },
  {
   "cell_type": "code",
   "execution_count": 13,
   "id": "7fb9e69e",
   "metadata": {},
   "outputs": [],
   "source": [
    "train_test= \"train\"\n",
    "\n",
    "for expression_identifier, expression in enumerate(operations):    \n",
    "    datasets[dataset_name][train_test][expression_identifier]={\"supervised_signal\":0, \"unsupervised_signal\":0,\"label\" : 0, \"expression\":expression}\n",
    "    \n",
    "    # 0 represents the blank symbol, so the digits representations start from 1 which corresponds to 0\n",
    "    datasets[dataset_name][train_test][expression_identifier][\"label\"]=expression[-1]-1 \n",
    "    \n",
    "    supervised_train_expression =[0]+[item for items in zip(expression[:-1], [0] * len(expression[:-1])) for item in items]\n",
    "    datasets[dataset_name][train_test][expression_identifier][\"supervised_signal\"]=  helper.pad_audio_beginning(env.gen_signal_for_symbols(supervised_train_expression),L)\n",
    "    \n",
    "    unsupervised_train_expression =[0]+[item for items in zip(expression, [0] * len(expression)) for item in items]\n",
    "    datasets[dataset_name][train_test][expression_identifier][\"unsupervised_signal\"]= helper.pad_audio_beginning(env.gen_signal_for_symbols(unsupervised_train_expression),L)\n"
   ]
  },
  {
   "cell_type": "markdown",
   "id": "520102bd",
   "metadata": {},
   "source": [
    "### Test Dataset 3:\n",
    "Two or more additions and subtractions of digits separated by randon number of blank symbols "
   ]
  },
  {
   "cell_type": "code",
   "execution_count": 14,
   "id": "e3a30573",
   "metadata": {},
   "outputs": [],
   "source": [
    "ops = []\n",
    "for i in range(10):\n",
    "    for j in range(10):\n",
    "        for k in range(10):\n",
    "            if i+j+k<10 and i+j<10:\n",
    "                ops.append([i+1,10+1,j+1,10+1,k+1,11+1,(i+j+k)+1])\n",
    "            if 0<=i+j-k<10 and i+j<10:\n",
    "                ops.append([i+1,10+1,j+1,12+1,k+1,11+1,(i+j-k)+1])\n",
    "            if 0<=i-j-k<10 and i-j>=0:\n",
    "                ops.append([i+1,12+1,j+1,12+1,k+1,11+1,(i-j-k)+1])\n",
    "            if 0<=i-j+k<10 and i-j>=0 and j-k<10:\n",
    "                ops.append([i+1,12+1,j+1,10+1,k+1,11+1,(i-j+k)+1])"
   ]
  },
  {
   "cell_type": "code",
   "execution_count": 15,
   "id": "4c8d86fe",
   "metadata": {},
   "outputs": [],
   "source": [
    "train_test= \"test\"\n",
    "\n",
    "for expression_identifier, expression in enumerate(ops):    \n",
    "    datasets[dataset_name][train_test][expression_identifier]={\"supervised_signal\":0, \"unsupervised_signal\":0,\"label\" : 0, \"expression\":expression}\n",
    "    \n",
    "    # 0 represents the blank symbol, so the digits representations start from 1 which corresponds to 0\n",
    "    datasets[dataset_name][train_test][expression_identifier][\"label\"]=expression[-1]-1 \n",
    "    \n",
    "    supervised_train_expression =[0]+[item for items in zip(expression[:-1], [0] * len(expression[:-1])) for item in items]\n",
    "    datasets[dataset_name][train_test][expression_identifier][\"supervised_signal\"]=  helper.pad_audio_beginning(env.gen_signal_for_symbols(supervised_train_expression),L)\n",
    "    \n",
    "    unsupervised_train_expression =[0]+[item for items in zip(expression, [0] * len(expression)) for item in items]\n",
    "    datasets[dataset_name][train_test][expression_identifier][\"unsupervised_signal\"]= helper.pad_audio_beginning(env.gen_signal_for_symbols(unsupervised_train_expression),L)"
   ]
  },
  {
   "cell_type": "code",
   "execution_count": 16,
   "id": "aa944f47",
   "metadata": {},
   "outputs": [
    {
     "data": {
      "text/plain": [
       "1210"
      ]
     },
     "execution_count": 16,
     "metadata": {},
     "output_type": "execute_result"
    }
   ],
   "source": [
    "len(datasets[dataset_name][\"test\"].keys())"
   ]
  },
  {
   "cell_type": "code",
   "execution_count": 17,
   "id": "620ef0f9",
   "metadata": {},
   "outputs": [
    {
     "name": "stdout",
     "output_type": "stream",
     "text": [
      "[3, 11, 4, 12, 6]\n"
     ]
    },
    {
     "data": {
      "image/png": "[encoded data removed]",
      "text/plain": [
       "<Figure size 432x288 with 1 Axes>"
      ]
     },
     "metadata": {
      "needs_background": "light"
     },
     "output_type": "display_data"
    }
   ],
   "source": [
    "i=22\n",
    "plt.plot(datasets[dataset_name][train_test][i][\"supervised_signal\"], label = \"Supervised\")\n",
    "plt.plot(datasets[dataset_name][train_test][i][\"unsupervised_signal\"], label = \"Unsupervised\")\n",
    "print(operations[i])\n",
    "plt.legend()\n",
    "plt.show()"
   ]
  },
  {
   "cell_type": "markdown",
   "id": "4063df2e",
   "metadata": {},
   "source": [
    "# Validation Dataset"
   ]
  },
  {
   "cell_type": "code",
   "execution_count": 18,
   "id": "1745f588",
   "metadata": {},
   "outputs": [],
   "source": [
    "dataset_name = \"validation\"\n",
    "\n",
    "datasets[dataset_name]={}"
   ]
  },
  {
   "cell_type": "code",
   "execution_count": 19,
   "id": "61b79b11",
   "metadata": {},
   "outputs": [],
   "source": [
    "train_test= \"validation1\"\n",
    "\n",
    "expression = list(range(15))\n",
    "whole_signal = env.gen_signal_for_symbols(expression, add_blanks=True)\n",
    "L = 512 * 30\n",
    "whole_signal = helper.pad_audio_beginning(whole_signal, L)\n",
    "\n",
    "\n",
    "datasets[dataset_name][train_test]={\"supervised_signal\":0, \"unsupervised_signal\":0,\"label\" : 0, \"expression\":expression}\n",
    "    \n",
    "# 0 represents the blank symbol, so the digits representations start from 1 which corresponds to 0\n",
    "\n",
    "supervised_train_expression =[0]+[item for items in zip(expression, [0] * len(expression)) for item in items]\n",
    "datasets[dataset_name][train_test][\"supervised_signal\"]=  helper.pad_audio_beginning(env.gen_signal_for_symbols(supervised_train_expression),L)\n",
    "\n",
    "whole_signal = env.gen_signal_for_symbols(expression, add_blanks=False)\n",
    "whole_signal = helper.pad_audio_beginning(whole_signal, L)\n",
    "\n",
    "unsupervised_train_expression =[0]+[item for items in zip(expression, [0] * len(expression[:-1])) for item in items]\n",
    "datasets[dataset_name][train_test][\"unsupervised_signal\"]= helper.pad_audio_beginning(env.gen_signal_for_symbols(unsupervised_train_expression),L)\n"
   ]
  },
  {
   "cell_type": "code",
   "execution_count": 20,
   "id": "8b07b231",
   "metadata": {},
   "outputs": [],
   "source": [
    "pickle.dump(\n",
    "    datasets, open(\"data/dataset_new.pkl\", \"wb\")\n",
    ") "
   ]
  },
  {
   "cell_type": "code",
   "execution_count": null,
   "id": "341e6475",
   "metadata": {},
   "outputs": [],
   "source": []
  }
 ],
 "metadata": {
  "kernelspec": {
   "display_name": "Python 3",
   "language": "python",
   "name": "python3"
  },
  "language_info": {
   "codemirror_mode": {
    "name": "ipython",
    "version": 3
   },
   "file_extension": ".py",
   "mimetype": "text/x-python",
   "name": "python",
   "nbconvert_exporter": "python",
   "pygments_lexer": "ipython3",
   "version": "3.9.15"
  }
 },
 "nbformat": 4,
 "nbformat_minor": 5
}
