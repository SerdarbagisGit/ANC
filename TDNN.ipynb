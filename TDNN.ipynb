{
 "cells": [
  {
   "cell_type": "code",
   "execution_count": 1,
   "id": "a8575f2e-09fb-4733-bb8f-e39d9188c9b6",
   "metadata": {},
   "outputs": [],
   "source": [
    "import logging\n",
    "import os\n",
    "import numpy as np\n",
    "import tensorflow as tf\n",
    "from tensorflow import keras\n",
    "from tensorflow.keras.layers import Conv1D, MaxPooling1D, Flatten, Dense\n",
    "from tensorflow.keras.models import Sequential\n",
    "from tensorflow.keras.optimizers import Adam\n",
    "# from tensorflow.keras.layers import EarlyStopping\n",
    "\n",
    "from pywt import wavedec, WaveletPacket, waverec\n",
    "\n",
    "import matplotlib.pyplot as plt\n",
    "import numpy as np\n",
    "import pandas as pd\n",
    "import pickle\n",
    "from scipy import signal as signal_lib\n",
    "import time\n",
    "import random"
   ]
  },
  {
   "cell_type": "code",
   "execution_count": 2,
   "id": "da57e3c2-42b3-4c57-b338-0df41f748022",
   "metadata": {},
   "outputs": [],
   "source": [
    "def get_wavelet_coefs(input_data):\n",
    "    girdi = np.array(input_data)\n",
    "    level = int(np.log2(len(girdi)))\n",
    "    coeff = wavedec(girdi, \"haar\", level=level)\n",
    "    return np.round(np.concatenate(coeff), decimals=2)"
   ]
  },
  {
   "cell_type": "code",
   "execution_count": 3,
   "id": "58f6e049-79bf-4152-8223-40de61820f77",
   "metadata": {},
   "outputs": [],
   "source": [
    "def extract_features( data, dataset=\"dataset_1\", test_set=\"\"):\n",
    "    \n",
    "    train_operations = data[dataset][\"train\"+test_set]\n",
    "    test_operations = data[dataset][\"test\"+test_set]\n",
    "\n",
    "    train_data = np.zeros((len(train_operations), 80, 32), dtype=np.float64)\n",
    "    train_target = np.zeros((len(train_operations), 10))\n",
    "\n",
    "    test_data = np.zeros((len(test_operations), 80, 32), dtype=np.float64)\n",
    "    test_target = np.zeros((len(test_operations), 10))\n",
    "    \n",
    "    for counter in range(len(train_operations)):\n",
    "        signal = train_operations[counter][\"supervised_signal\"]\n",
    "        \n",
    "        signal_len = int((len(signal) - window_size) / offset + 1)\n",
    "        \n",
    "\n",
    "        for j in range(signal_len):\n",
    "            data_window = np.array(signal[j * offset: j * offset + window_size])\n",
    "            n = max(abs(data_window))\n",
    "            if n > 1:\n",
    "                data_window = list((data_window) / n)\n",
    "            else:\n",
    "                data_window = np.zeros(len(data_window))\n",
    "            data_window=data_window*10\n",
    "            w = get_wavelet_coefs(data_window)\n",
    "            train_data[counter, j, :] = w[:32]            \n",
    "        y = train_operations[counter][\"label\"]\n",
    "        train_target[counter, y] = 1\n",
    "    \n",
    "    for counter in range(len(test_operations)):\n",
    "        signal = test_operations[counter][\"supervised_signal\"]\n",
    "        \n",
    "        signal_len = int((len(signal) - window_size) / offset + 1)\n",
    "        \n",
    "\n",
    "        for j in range(signal_len):\n",
    "            data_window = np.array(signal[j * offset: j * offset + window_size])\n",
    "            n = max(abs(data_window))\n",
    "            if n > 1:\n",
    "                data_window = list((data_window) / n)\n",
    "            else:\n",
    "                data_window = np.zeros(len(data_window))\n",
    "            data_window=data_window*10\n",
    "            w = get_wavelet_coefs(data_window)\n",
    "            test_data[counter, j, :] = w[:32]\n",
    "            \n",
    "        y = test_operations[counter][\"label\"]\n",
    "        test_target[counter, y] = 1\n",
    "        \n",
    "        \n",
    "\n",
    "         \n",
    "    return train_data, train_target,  test_data, test_target\n"
   ]
  },
  {
   "cell_type": "code",
   "execution_count": 4,
   "id": "b3c0dbd8-71ff-43be-a61e-e9df631f2321",
   "metadata": {},
   "outputs": [
    {
     "name": "stdout",
     "output_type": "stream",
     "text": [
      "79\n"
     ]
    }
   ],
   "source": [
    "dataset = pickle.load(open(\"data/dataset_new.pkl\", \"rb\"))\n",
    "window_size = 128\n",
    "offset = 64\n",
    "sample_size = int((len(dataset[\"dataset_1\"][\"train\"][0][\"supervised_signal\"])-offset)/offset)\n",
    "print(sample_size)"
   ]
  },
  {
   "cell_type": "code",
   "execution_count": 5,
   "id": "023e3e07-1b27-43c2-ae74-e4e1d1cd1838",
   "metadata": {},
   "outputs": [
    {
     "data": {
      "text/plain": [
       "dict_keys(['dataset_1', 'dataset_2', 'dataset_3', 'validation'])"
      ]
     },
     "execution_count": 5,
     "metadata": {},
     "output_type": "execute_result"
    }
   ],
   "source": [
    "dataset.keys()"
   ]
  },
  {
   "cell_type": "code",
   "execution_count": 6,
   "id": "643dcd18-1303-4083-9b43-a1effbfb99ac",
   "metadata": {},
   "outputs": [
    {
     "name": "stdout",
     "output_type": "stream",
     "text": [
      "5120 5120\n",
      "signal 1 non zero samples 1916\n",
      "signal 2 non zero samples 2427\n"
     ]
    },
    {
     "data": {
      "image/png": "[encoded data removed]",
      "text/plain": [
       "<Figure size 432x288 with 1 Axes>"
      ]
     },
     "metadata": {
      "needs_background": "light"
     },
     "output_type": "display_data"
    }
   ],
   "source": [
    "i=5\n",
    "\n",
    "signal1 = dataset[\"dataset_1\"][\"test\"][i][\"supervised_signal\"]\n",
    "plt.plot(np.array(signal1)-20, label=\"train\")\n",
    "signal2 = dataset[\"dataset_1\"][\"test\"][i][\"unsupervised_signal\"]\n",
    "plt.plot(np.array(signal2), label=\"test\")\n",
    "plt.legend()\n",
    "print(len(signal1), len(signal2))\n",
    "count=0\n",
    "for s in signal1:\n",
    "    if s!=0:\n",
    "        count+=1\n",
    "print(\"signal 1 non zero samples\", count)\n",
    "count=0\n",
    "for s in signal2:\n",
    "    if s!=0:\n",
    "        count+=1\n",
    "print(\"signal 2 non zero samples\", count)\n"
   ]
  },
  {
   "cell_type": "markdown",
   "id": "ca7820d8-92c1-4d7f-b8d7-e867eace53a9",
   "metadata": {
    "tags": []
   },
   "source": [
    "# Dataset 1"
   ]
  },
  {
   "cell_type": "code",
   "execution_count": 7,
   "id": "8deb811f-f430-45bc-8447-d769923e14bd",
   "metadata": {},
   "outputs": [],
   "source": [
    "train_data, train_target,  test_data, test_target = extract_features(dataset, \"dataset_1\")"
   ]
  },
  {
   "cell_type": "code",
   "execution_count": 8,
   "id": "87e7b150-b8c9-4b06-941c-a91375d36982",
   "metadata": {
    "tags": []
   },
   "outputs": [
    {
     "name": "stdout",
     "output_type": "stream",
     "text": [
      "Model: \"sequential_1\"\n",
      "_________________________________________________________________\n",
      " Layer (type)                Output Shape              Param #   \n",
      "=================================================================\n",
      " time_distributed (TimeDistr  (None, 80, 8)            264       \n",
      " ibuted)                                                         \n",
      "                                                                 \n",
      " time_distributed_1 (TimeDis  (None, 80, 4)            36        \n",
      " tributed)                                                       \n",
      "                                                                 \n",
      " time_distributed_2 (TimeDis  (None, 80, 8)            40        \n",
      " tributed)                                                       \n",
      "                                                                 \n",
      " time_distributed_3 (TimeDis  (None, 80, 16)           144       \n",
      " tributed)                                                       \n",
      "                                                                 \n",
      " conv1d (Conv1D)             (None, 73, 128)           16512     \n",
      "                                                                 \n",
      " max_pooling1d (MaxPooling1D  (None, 36, 128)          0         \n",
      " )                                                               \n",
      "                                                                 \n",
      " conv1d_1 (Conv1D)           (None, 29, 32)            32800     \n",
      "                                                                 \n",
      " max_pooling1d_1 (MaxPooling  (None, 1, 32)            0         \n",
      " 1D)                                                             \n",
      "                                                                 \n",
      " flatten (Flatten)           (None, 32)                0         \n",
      "                                                                 \n",
      " dense_4 (Dense)             (None, 256)               8448      \n",
      "                                                                 \n",
      " dense_5 (Dense)             (None, 10)                2570      \n",
      "                                                                 \n",
      "=================================================================\n",
      "Total params: 60,814\n",
      "Trainable params: 60,814\n",
      "Non-trainable params: 0\n",
      "_________________________________________________________________\n",
      "Compiling ...\n"
     ]
    }
   ],
   "source": [
    "from keras.models import Sequential\n",
    "from keras.layers import Dense, TimeDistributed, Conv1D, Flatten, Input\n",
    "import tensorflow as tf\n",
    "from tensorflow import keras\n",
    "\n",
    "input_shape = [80, 32]\n",
    "model = Sequential()\n",
    "\n",
    "model = tf.keras.Sequential([\n",
    "    tf.keras.layers.Input(shape=input_shape),\n",
    "    tf.keras.layers.TimeDistributed(tf.keras.layers.Dense(8, activation='relu')),\n",
    "    tf.keras.layers.TimeDistributed(tf.keras.layers.Dense(4, activation='relu')),\n",
    "    tf.keras.layers.TimeDistributed(tf.keras.layers.Dense(8, activation='relu')),\n",
    "    tf.keras.layers.TimeDistributed(tf.keras.layers.Dense(16, activation='relu')),\n",
    "    tf.keras.layers.Conv1D(128, 8, activation='relu'),\n",
    "    tf.keras.layers.MaxPooling1D(pool_size=2),\n",
    "    tf.keras.layers.Conv1D(32, 8, activation='relu'),\n",
    "    tf.keras.layers.MaxPooling1D(pool_size=28),\n",
    "    tf.keras.layers.Flatten(),\n",
    "    tf.keras.layers.Dense(256, activation='relu'),\n",
    "    tf.keras.layers.Dense(10, activation='softmax')\n",
    "])\n",
    "model.summary()\n",
    "\n",
    "print(\"Compiling ...\")\n",
    "\n",
    "opt = Adam()\n",
    "model.compile(loss=\"categorical_crossentropy\", optimizer=opt, metrics=[\"accuracy\"])\n",
    "es = keras.callbacks.EarlyStopping(monitor='val_loss', mode='min', verbose=1, patience=100)\n",
    "\n"
   ]
  },
  {
   "cell_type": "code",
   "execution_count": null,
   "id": "0d88c4b8-f72b-4ebd-8151-a6f5c000498e",
   "metadata": {},
   "outputs": [],
   "source": [
    "print(\"Training ... \")\n",
    "model.fit(train_data, train_target, validation_data=(train_data, train_target),batch_size=100, epochs=1000,  callbacks=[es], verbose=0)\n",
    "loss, accuracy = model.evaluate(test_data, test_target)\n",
    "print(\"Test Loss:\", loss)\n",
    "print(\"Test Accuracy:\", accuracy)"
   ]
  },
  {
   "cell_type": "markdown",
   "id": "fe0aa2dc-e87e-4260-9a2e-2b189843b271",
   "metadata": {
    "tags": []
   },
   "source": [
    "# Dataset 2"
   ]
  },
  {
   "cell_type": "code",
   "execution_count": null,
   "id": "d0f1fef9-0890-4f98-b52c-9ad9f0d3b349",
   "metadata": {
    "tags": []
   },
   "outputs": [],
   "source": [
    "for i in range(10):\n",
    "    print(\"test \", i)\n",
    "    train_data, train_target,  test_data, test_target = extract_features(dataset, \"dataset_2\", test_set =str(i))\n",
    "    print(train_data.shape, train_target.shape,  test_data.shape, test_target.shape)\n",
    "    input_shape = [80, 32]\n",
    "    model = tf.keras.Sequential([\n",
    "        tf.keras.layers.Input(shape=input_shape),\n",
    "        tf.keras.layers.TimeDistributed(tf.keras.layers.Dense(8, activation='relu')),\n",
    "        tf.keras.layers.TimeDistributed(tf.keras.layers.Dense(4, activation='relu')),\n",
    "        tf.keras.layers.TimeDistributed(tf.keras.layers.Dense(8, activation='relu')),\n",
    "        tf.keras.layers.TimeDistributed(tf.keras.layers.Dense(16, activation='relu')),\n",
    "        tf.keras.layers.Conv1D(128, 8, activation='relu'),\n",
    "        tf.keras.layers.MaxPooling1D(pool_size=2),\n",
    "        tf.keras.layers.Conv1D(32, 8, activation='relu'),\n",
    "        tf.keras.layers.MaxPooling1D(pool_size=28),\n",
    "        tf.keras.layers.Flatten(),\n",
    "        tf.keras.layers.Dense(256, activation='relu'),\n",
    "        tf.keras.layers.Dense(10, activation='softmax')\n",
    "    ])\n",
    "\n",
    "    print(\"Compiling ...\")\n",
    "\n",
    "    opt = Adam()\n",
    "    model.compile(loss=\"categorical_crossentropy\", optimizer=opt, metrics=[\"accuracy\"])\n",
    "    es = keras.callbacks.EarlyStopping(monitor='val_loss', mode='min', verbose=1, patience=100)\n",
    "\n",
    "    print(\"Training ... \")\n",
    "    model.fit(train_data, train_target, validation_data=(train_data, train_target),batch_size=100, epochs=1000,  callbacks=[es], verbose=0)\n",
    "    \n",
    "    loss, accuracy = model.evaluate(test_data, test_target)\n",
    "    print(\"Test Loss:\", loss)\n",
    "    print(\"Test Accuracy:\", accuracy)\n",
    "    \n",
    "   \n"
   ]
  },
  {
   "cell_type": "markdown",
   "id": "f3fd05a3-54a8-4436-a424-a6eb580eb188",
   "metadata": {
    "tags": []
   },
   "source": [
    "# Dataset 3"
   ]
  },
  {
   "cell_type": "code",
   "execution_count": null,
   "id": "98fe07b7-e4c8-4e2b-8ba7-398d364abfc9",
   "metadata": {},
   "outputs": [],
   "source": [
    "train_data, train_target,  test_data, test_target = extract_features(dataset, \"dataset_3\")"
   ]
  },
  {
   "cell_type": "code",
   "execution_count": null,
   "id": "d65b8d86-b4ac-4e86-a61a-f75675ad7d9c",
   "metadata": {
    "tags": []
   },
   "outputs": [],
   "source": [
    "input_shape = [80, 32]\n",
    "\n",
    "model = tf.keras.Sequential([\n",
    "    tf.keras.layers.Input(shape=input_shape),\n",
    "    tf.keras.layers.TimeDistributed(tf.keras.layers.Dense(8, activation='relu')),\n",
    "    tf.keras.layers.TimeDistributed(tf.keras.layers.Dense(4, activation='relu')),\n",
    "    tf.keras.layers.TimeDistributed(tf.keras.layers.Dense(8, activation='relu')),\n",
    "    tf.keras.layers.TimeDistributed(tf.keras.layers.Dense(16, activation='relu')),\n",
    "    tf.keras.layers.Conv1D(256, 8, activation='relu'),\n",
    "    tf.keras.layers.MaxPooling1D(pool_size=2),\n",
    "    tf.keras.layers.Conv1D(64, 8, activation='relu'),\n",
    "    tf.keras.layers.MaxPooling1D(pool_size=28),\n",
    "    tf.keras.layers.Flatten(),\n",
    "    tf.keras.layers.Dense(256, activation='relu'),\n",
    "    tf.keras.layers.Dense(10, activation='softmax')\n",
    "])\n",
    "\n",
    "print(\"Compiling ...\")\n",
    "\n",
    "opt = Adam()\n",
    "model.compile(loss=\"categorical_crossentropy\", optimizer=opt, metrics=[\"accuracy\"])\n",
    "es = keras.callbacks.EarlyStopping(monitor='val_loss', mode='min', verbose=1, patience=100)\n",
    "\n",
    "print(\"Training ... \")\n",
    "model.fit(train_data, train_target, validation_data=(train_data, train_target),batch_size=100, epochs=1000,  callbacks=[es], verbose=0)\n",
    "\n",
    "loss, accuracy = model.evaluate(test_data, test_target)\n",
    "print(\"Test Loss:\", loss)\n",
    "print(\"Test Accuracy:\", accuracy)"
   ]
  }
 ],
 "metadata": {
  "kernelspec": {
   "display_name": "Python 3",
   "language": "python",
   "name": "python3"
  },
  "language_info": {
   "codemirror_mode": {
    "name": "ipython",
    "version": 3
   },
   "file_extension": ".py",
   "mimetype": "text/x-python",
   "name": "python",
   "nbconvert_exporter": "python",
   "pygments_lexer": "ipython3",
   "version": "3.9.15"
  }
 },
 "nbformat": 4,
 "nbformat_minor": 5
}
