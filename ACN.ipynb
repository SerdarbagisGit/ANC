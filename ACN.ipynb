{
 "cells": [
  {
   "cell_type": "code",
   "execution_count": 1,
   "id": "31579e27-b5b3-44b4-a33c-5893b228cc09",
   "metadata": {},
   "outputs": [],
   "source": [
    "from  cortex import Cortex\n",
    "from lib.helper import *"
   ]
  },
  {
   "cell_type": "markdown",
   "id": "3ec14c94-68cf-442a-9ca4-cfe7da84212d",
   "metadata": {
    "tags": []
   },
   "source": [
    "# Dataset 1"
   ]
  },
  {
   "cell_type": "code",
   "execution_count": 2,
   "id": "42a8d68a-a665-4eb2-81a1-93e5a3782fc8",
   "metadata": {},
   "outputs": [],
   "source": [
    "c = Cortex()"
   ]
  },
  {
   "cell_type": "code",
   "execution_count": 3,
   "id": "8dbd6383-b42b-4a58-8472-f7f13ad93556",
   "metadata": {},
   "outputs": [
    {
     "name": "stdout",
     "output_type": "stream",
     "text": [
      "training\n"
     ]
    }
   ],
   "source": [
    "dataset=\"dataset_1\"\n",
    "test_set =\"\"\n",
    "c.start_training(dataset_path=\"data/dataset_new.pkl\", dataset=dataset,test_set=test_set)"
   ]
  },
  {
   "cell_type": "code",
   "execution_count": 4,
   "id": "98b98366-d225-432b-885e-ea47b1e65a15",
   "metadata": {},
   "outputs": [
    {
     "name": "stdout",
     "output_type": "stream",
     "text": [
      "Expressions 550\n",
      "predicted last symbol 543\n",
      "Accuracy 0.9872727272727273\n"
     ]
    }
   ],
   "source": [
    "dataset=\"dataset_1\"\n",
    "test_set =\"\"\n",
    "c.predict(dataset_path=\"data/dataset_new.pkl\", dataset=dataset,test_set=test_set)"
   ]
  },
  {
   "cell_type": "markdown",
   "id": "398cacbf-d4d1-4cdb-9d6a-54c5d7e33aa6",
   "metadata": {
    "tags": []
   },
   "source": [
    "# Dataset 1"
   ]
  },
  {
   "cell_type": "code",
   "execution_count": 5,
   "id": "4949869e-813a-4bf0-a17a-ccabc12d26ab",
   "metadata": {},
   "outputs": [],
   "source": [
    "c = Cortex()"
   ]
  },
  {
   "cell_type": "code",
   "execution_count": 6,
   "id": "f2c46114-3ff8-4e8c-bdbc-1bec70c4e73f",
   "metadata": {
    "tags": []
   },
   "outputs": [
    {
     "name": "stdout",
     "output_type": "stream",
     "text": [
      "training\n",
      "Expressions 10\n",
      "predicted last symbol 5\n",
      "Accuracy 0.5\n",
      "training\n",
      "Expressions 10\n",
      "predicted last symbol 2\n",
      "Accuracy 0.2\n",
      "training\n",
      "Expressions 10\n",
      "predicted last symbol 2\n",
      "Accuracy 0.2\n",
      "training\n",
      "Expressions 10\n",
      "predicted last symbol 5\n",
      "Accuracy 0.5\n",
      "training\n",
      "Expressions 10\n",
      "predicted last symbol 3\n",
      "Accuracy 0.3\n",
      "training\n",
      "Expressions 10\n",
      "predicted last symbol 3\n",
      "Accuracy 0.3\n",
      "training\n",
      "Expressions 10\n",
      "predicted last symbol 4\n",
      "Accuracy 0.4\n",
      "training\n",
      "Expressions 10\n",
      "predicted last symbol 4\n",
      "Accuracy 0.4\n",
      "training\n",
      "Expressions 10\n",
      "predicted last symbol 4\n",
      "Accuracy 0.4\n",
      "training\n",
      "Expressions 10\n",
      "predicted last symbol 4\n",
      "Accuracy 0.4\n"
     ]
    }
   ],
   "source": [
    "for  i in range(10):\n",
    "    c = Cortex()\n",
    "    dataset=\"dataset_2\"\n",
    "    test_set =str(i)\n",
    "    c.start_training(dataset_path=\"data/dataset_new.pkl\", dataset=dataset,test_set=test_set)\n",
    "    c.predict(dataset_path=\"data/dataset_new.pkl\", dataset=dataset,test_set=test_set)"
   ]
  },
  {
   "cell_type": "markdown",
   "id": "784a2b10-16c7-42a7-ab2e-f7cf811fb0f2",
   "metadata": {
    "tags": []
   },
   "source": [
    "# Dataset 3"
   ]
  },
  {
   "cell_type": "code",
   "execution_count": 7,
   "id": "8e705df4-3059-4829-bc9e-c1b3ec4203be",
   "metadata": {},
   "outputs": [],
   "source": [
    "c = Cortex()"
   ]
  },
  {
   "cell_type": "code",
   "execution_count": 8,
   "id": "eb47a595-71ec-4768-9eb0-55185fc932af",
   "metadata": {},
   "outputs": [
    {
     "name": "stdout",
     "output_type": "stream",
     "text": [
      "training\n"
     ]
    }
   ],
   "source": [
    "dataset=\"dataset_3\"\n",
    "test_set =\"\"\n",
    "c.start_training(dataset_path=\"data/dataset_new.pkl\", dataset=dataset,test_set=test_set)"
   ]
  },
  {
   "cell_type": "code",
   "execution_count": 9,
   "id": "80e6dba6-240c-4a4c-8a65-0daf110e1857",
   "metadata": {},
   "outputs": [
    {
     "name": "stdout",
     "output_type": "stream",
     "text": [
      "Expressions 1210\n",
      "predicted last symbol 1174\n",
      "Accuracy 0.9702479338842975\n"
     ]
    }
   ],
   "source": [
    "dataset=\"dataset_3\"\n",
    "test_set =\"\"\n",
    "c.predict(dataset_path=\"data/dataset_new.pkl\", dataset=dataset,test_set=test_set)"
   ]
  },
  {
   "cell_type": "code",
   "execution_count": null,
   "id": "7fad9a2e-53c4-4139-8281-c8af52166119",
   "metadata": {},
   "outputs": [],
   "source": []
  }
 ],
 "metadata": {
  "kernelspec": {
   "display_name": "Python 3",
   "language": "python",
   "name": "python3"
  },
  "language_info": {
   "codemirror_mode": {
    "name": "ipython",
    "version": 3
   },
   "file_extension": ".py",
   "mimetype": "text/x-python",
   "name": "python",
   "nbconvert_exporter": "python",
   "pygments_lexer": "ipython3",
   "version": "3.9.15"
  }
 },
 "nbformat": 4,
 "nbformat_minor": 5
}
